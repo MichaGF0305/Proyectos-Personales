{
 "cells": [
  {
   "cell_type": "code",
   "execution_count": 1,
   "metadata": {},
   "outputs": [
    {
     "name": "stderr",
     "output_type": "stream",
     "text": [
      "C:\\Users\\micha\\AppData\\Local\\Packages\\PythonSoftwareFoundation.Python.3.11_qbz5n2kfra8p0\\LocalCache\\local-packages\\Python311\\site-packages\\tqdm\\auto.py:21: TqdmWarning: IProgress not found. Please update jupyter and ipywidgets. See https://ipywidgets.readthedocs.io/en/stable/user_install.html\n",
      "  from .autonotebook import tqdm as notebook_tqdm\n"
     ]
    }
   ],
   "source": [
    "#Importacion de librerias\n",
    "from transformers import T5ForConditionalGeneration, T5Tokenizer\n",
    "from datasets import load_dataset\n",
    "import pandas as pd\n",
    "from sklearn.metrics import mean_squared_error\n",
    "import torch\n",
    "import re"
   ]
  },
  {
   "cell_type": "markdown",
   "metadata": {},
   "source": [
    "# Regresion de Texto"
   ]
  },
  {
   "cell_type": "markdown",
   "metadata": {},
   "source": [
    "## Zero-Shot-Learning"
   ]
  },
  {
   "cell_type": "code",
   "execution_count": 2,
   "metadata": {},
   "outputs": [
    {
     "data": {
      "text/plain": [
       "DatasetDict({\n",
       "    train: Dataset({\n",
       "        features: ['text', 'date', 'user', 'sentiment', 'query'],\n",
       "        num_rows: 1600000\n",
       "    })\n",
       "    test: Dataset({\n",
       "        features: ['text', 'date', 'user', 'sentiment', 'query'],\n",
       "        num_rows: 498\n",
       "    })\n",
       "})"
      ]
     },
     "execution_count": 2,
     "metadata": {},
     "output_type": "execute_result"
    }
   ],
   "source": [
    "# Importacion del dataset\n",
    "sentiment140 = load_dataset(\"stanfordnlp/sentiment140\",\n",
    "cache_dir= \"local-datasets\", trust_remote_code=True                \n",
    ")\n",
    "sentiment140"
   ]
  },
  {
   "cell_type": "code",
   "execution_count": 100,
   "metadata": {},
   "outputs": [
    {
     "data": {
      "text/html": [
       "<div>\n",
       "<style scoped>\n",
       "    .dataframe tbody tr th:only-of-type {\n",
       "        vertical-align: middle;\n",
       "    }\n",
       "\n",
       "    .dataframe tbody tr th {\n",
       "        vertical-align: top;\n",
       "    }\n",
       "\n",
       "    .dataframe thead th {\n",
       "        text-align: right;\n",
       "    }\n",
       "</style>\n",
       "<table border=\"1\" class=\"dataframe\">\n",
       "  <thead>\n",
       "    <tr style=\"text-align: right;\">\n",
       "      <th></th>\n",
       "      <th>text</th>\n",
       "      <th>date</th>\n",
       "      <th>user</th>\n",
       "      <th>sentiment</th>\n",
       "      <th>query</th>\n",
       "    </tr>\n",
       "  </thead>\n",
       "  <tbody>\n",
       "    <tr>\n",
       "      <th>0</th>\n",
       "      <td>@switchfoot http://twitpic.com/2y1zl - Awww, t...</td>\n",
       "      <td>Mon Apr 06 22:19:45 PDT 2009</td>\n",
       "      <td>_TheSpecialOne_</td>\n",
       "      <td>0</td>\n",
       "      <td>NO_QUERY</td>\n",
       "    </tr>\n",
       "    <tr>\n",
       "      <th>1</th>\n",
       "      <td>is upset that he can't update his Facebook by ...</td>\n",
       "      <td>Mon Apr 06 22:19:49 PDT 2009</td>\n",
       "      <td>scotthamilton</td>\n",
       "      <td>0</td>\n",
       "      <td>NO_QUERY</td>\n",
       "    </tr>\n",
       "    <tr>\n",
       "      <th>2</th>\n",
       "      <td>@Kenichan I dived many times for the ball. Man...</td>\n",
       "      <td>Mon Apr 06 22:19:53 PDT 2009</td>\n",
       "      <td>mattycus</td>\n",
       "      <td>0</td>\n",
       "      <td>NO_QUERY</td>\n",
       "    </tr>\n",
       "    <tr>\n",
       "      <th>3</th>\n",
       "      <td>my whole body feels itchy and like its on fire</td>\n",
       "      <td>Mon Apr 06 22:19:57 PDT 2009</td>\n",
       "      <td>ElleCTF</td>\n",
       "      <td>0</td>\n",
       "      <td>NO_QUERY</td>\n",
       "    </tr>\n",
       "    <tr>\n",
       "      <th>4</th>\n",
       "      <td>@nationwideclass no, it's not behaving at all....</td>\n",
       "      <td>Mon Apr 06 22:19:57 PDT 2009</td>\n",
       "      <td>Karoli</td>\n",
       "      <td>0</td>\n",
       "      <td>NO_QUERY</td>\n",
       "    </tr>\n",
       "    <tr>\n",
       "      <th>...</th>\n",
       "      <td>...</td>\n",
       "      <td>...</td>\n",
       "      <td>...</td>\n",
       "      <td>...</td>\n",
       "      <td>...</td>\n",
       "    </tr>\n",
       "    <tr>\n",
       "      <th>1599995</th>\n",
       "      <td>Just woke up. Having no school is the best fee...</td>\n",
       "      <td>Tue Jun 16 08:40:49 PDT 2009</td>\n",
       "      <td>AmandaMarie1028</td>\n",
       "      <td>4</td>\n",
       "      <td>NO_QUERY</td>\n",
       "    </tr>\n",
       "    <tr>\n",
       "      <th>1599996</th>\n",
       "      <td>TheWDB.com - Very cool to hear old Walt interv...</td>\n",
       "      <td>Tue Jun 16 08:40:49 PDT 2009</td>\n",
       "      <td>TheWDBoards</td>\n",
       "      <td>4</td>\n",
       "      <td>NO_QUERY</td>\n",
       "    </tr>\n",
       "    <tr>\n",
       "      <th>1599997</th>\n",
       "      <td>Are you ready for your MoJo Makeover? Ask me f...</td>\n",
       "      <td>Tue Jun 16 08:40:49 PDT 2009</td>\n",
       "      <td>bpbabe</td>\n",
       "      <td>4</td>\n",
       "      <td>NO_QUERY</td>\n",
       "    </tr>\n",
       "    <tr>\n",
       "      <th>1599998</th>\n",
       "      <td>Happy 38th Birthday to my boo of alll time!!! ...</td>\n",
       "      <td>Tue Jun 16 08:40:49 PDT 2009</td>\n",
       "      <td>tinydiamondz</td>\n",
       "      <td>4</td>\n",
       "      <td>NO_QUERY</td>\n",
       "    </tr>\n",
       "    <tr>\n",
       "      <th>1599999</th>\n",
       "      <td>happy #charitytuesday @theNSPCC @SparksCharity...</td>\n",
       "      <td>Tue Jun 16 08:40:50 PDT 2009</td>\n",
       "      <td>RyanTrevMorris</td>\n",
       "      <td>4</td>\n",
       "      <td>NO_QUERY</td>\n",
       "    </tr>\n",
       "  </tbody>\n",
       "</table>\n",
       "<p>1600000 rows × 5 columns</p>\n",
       "</div>"
      ],
      "text/plain": [
       "                                                      text  \\\n",
       "0        @switchfoot http://twitpic.com/2y1zl - Awww, t...   \n",
       "1        is upset that he can't update his Facebook by ...   \n",
       "2        @Kenichan I dived many times for the ball. Man...   \n",
       "3          my whole body feels itchy and like its on fire    \n",
       "4        @nationwideclass no, it's not behaving at all....   \n",
       "...                                                    ...   \n",
       "1599995  Just woke up. Having no school is the best fee...   \n",
       "1599996  TheWDB.com - Very cool to hear old Walt interv...   \n",
       "1599997  Are you ready for your MoJo Makeover? Ask me f...   \n",
       "1599998  Happy 38th Birthday to my boo of alll time!!! ...   \n",
       "1599999  happy #charitytuesday @theNSPCC @SparksCharity...   \n",
       "\n",
       "                                 date             user  sentiment     query  \n",
       "0        Mon Apr 06 22:19:45 PDT 2009  _TheSpecialOne_          0  NO_QUERY  \n",
       "1        Mon Apr 06 22:19:49 PDT 2009    scotthamilton          0  NO_QUERY  \n",
       "2        Mon Apr 06 22:19:53 PDT 2009         mattycus          0  NO_QUERY  \n",
       "3        Mon Apr 06 22:19:57 PDT 2009          ElleCTF          0  NO_QUERY  \n",
       "4        Mon Apr 06 22:19:57 PDT 2009           Karoli          0  NO_QUERY  \n",
       "...                               ...              ...        ...       ...  \n",
       "1599995  Tue Jun 16 08:40:49 PDT 2009  AmandaMarie1028          4  NO_QUERY  \n",
       "1599996  Tue Jun 16 08:40:49 PDT 2009      TheWDBoards          4  NO_QUERY  \n",
       "1599997  Tue Jun 16 08:40:49 PDT 2009           bpbabe          4  NO_QUERY  \n",
       "1599998  Tue Jun 16 08:40:49 PDT 2009     tinydiamondz          4  NO_QUERY  \n",
       "1599999  Tue Jun 16 08:40:50 PDT 2009   RyanTrevMorris          4  NO_QUERY  \n",
       "\n",
       "[1600000 rows x 5 columns]"
      ]
     },
     "execution_count": 100,
     "metadata": {},
     "output_type": "execute_result"
    }
   ],
   "source": [
    "sentiment140['train'].to_pandas()"
   ]
  },
  {
   "cell_type": "code",
   "execution_count": 103,
   "metadata": {},
   "outputs": [],
   "source": [
    "df = sentiment140['train'].to_pandas()"
   ]
  },
  {
   "cell_type": "code",
   "execution_count": 104,
   "metadata": {},
   "outputs": [
    {
     "data": {
      "text/plain": [
       "array([0, 4], dtype=int32)"
      ]
     },
     "execution_count": 104,
     "metadata": {},
     "output_type": "execute_result"
    }
   ],
   "source": [
    "df['sentiment'].unique()"
   ]
  },
  {
   "cell_type": "code",
   "execution_count": 3,
   "metadata": {},
   "outputs": [],
   "source": [
    "# Seleccionar la división 'train'\n",
    "sentiment140_train = sentiment140['train']"
   ]
  },
  {
   "cell_type": "code",
   "execution_count": 4,
   "metadata": {},
   "outputs": [
    {
     "name": "stdout",
     "output_type": "stream",
     "text": [
      "                                                text  sentiment\n",
      "0  @switchfoot http://twitpic.com/2y1zl - Awww, t...          0\n",
      "1  is upset that he can't update his Facebook by ...          0\n",
      "2  @Kenichan I dived many times for the ball. Man...          0\n",
      "3    my whole body feels itchy and like its on fire           0\n",
      "4  @nationwideclass no, it's not behaving at all....          0\n"
     ]
    }
   ],
   "source": [
    "# Seleccionar solo las columnas relevantes\n",
    "sentiment140_relevant = pd.DataFrame(\n",
    "    sentiment140['train'].remove_columns([col for col in sentiment140['train'].features if col not in ['text', 'sentiment']])\n",
    ")\n",
    "\n",
    "# Mostrar los primeros registros\n",
    "print(sentiment140_relevant.head())"
   ]
  },
  {
   "cell_type": "code",
   "execution_count": 5,
   "metadata": {},
   "outputs": [
    {
     "name": "stdout",
     "output_type": "stream",
     "text": [
      "                                                      text  sentiment\n",
      "0           a thats a bummer  you shoulda got david car...          0\n",
      "1        is upset that he cant update his facebook by t...          0\n",
      "2         i dived many times for the ball managed to sa...          0\n",
      "3          my whole body feels itchy and like its on fire           0\n",
      "4         no its not behaving at all im mad why am i he...          0\n",
      "...                                                    ...        ...\n",
      "1599995  just woke up having no school is the best feel...          4\n",
      "1599996  thewdbcom  very cool to hear old walt intervie...          4\n",
      "1599997  are you ready for your mojo makeover ask me fo...          4\n",
      "1599998  happy th birthday to my boo of alll time tupac...          4\n",
      "1599999                                         happy               4\n",
      "\n",
      "[1600000 rows x 2 columns]\n"
     ]
    }
   ],
   "source": [
    "# Función para limpiar el texto\n",
    "def clean_text(text):\n",
    "    # Eliminar menciones y hashtags\n",
    "    text = re.sub(r'@\\w+|#\\w+', '', text)\n",
    "    # Eliminar URLs\n",
    "    text = re.sub(r'http\\S+|www\\S+', '', text)\n",
    "    # Eliminar caracteres no alfabéticos y dejar solo letras y espacios\n",
    "    text = re.sub(r'[^a-zA-Z\\s]', '', text)\n",
    "    # Convertir a minúsculas\n",
    "    text = text.lower()\n",
    "    return text\n",
    "\n",
    "# Aplicar la limpieza al texto en el DataFrame relevante\n",
    "sentiment140_relevant['text'] = sentiment140_relevant['text'].apply(clean_text)\n",
    "\n",
    "# Verificar los primeros registros después de la limpieza\n",
    "print(sentiment140_relevant[['text', 'sentiment']])"
   ]
  },
  {
   "cell_type": "code",
   "execution_count": 6,
   "metadata": {},
   "outputs": [
    {
     "name": "stdout",
     "output_type": "stream",
     "text": [
      "Tamaño del dataset reducido: 4000\n"
     ]
    }
   ],
   "source": [
    "# Reducir el tamaño del dataset \n",
    "sentiment140_sample = sentiment140_relevant.sample(n=4000, random_state=42)\n",
    "print(f\"Tamaño del dataset reducido: {len(sentiment140_sample)}\")"
   ]
  },
  {
   "cell_type": "code",
   "execution_count": 109,
   "metadata": {},
   "outputs": [
    {
     "data": {
      "text/plain": [
       "sentiment\n",
       "0    0.5\n",
       "4    0.5\n",
       "Name: proportion, dtype: float64"
      ]
     },
     "execution_count": 109,
     "metadata": {},
     "output_type": "execute_result"
    }
   ],
   "source": [
    "sentiment140_sample['sentiment'].value_counts(normalize= True)"
   ]
  },
  {
   "cell_type": "code",
   "execution_count": 7,
   "metadata": {},
   "outputs": [],
   "source": [
    "# Extraer texto y etiquetas de la muestra\n",
    "texts = sentiment140_sample['text']\n",
    "true_labels = sentiment140_sample['sentiment']"
   ]
  },
  {
   "cell_type": "code",
   "execution_count": 57,
   "metadata": {},
   "outputs": [
    {
     "name": "stderr",
     "output_type": "stream",
     "text": [
      "C:\\Users\\micha\\AppData\\Local\\Packages\\PythonSoftwareFoundation.Python.3.11_qbz5n2kfra8p0\\LocalCache\\local-packages\\Python311\\site-packages\\huggingface_hub\\file_download.py:1132: FutureWarning: `resume_download` is deprecated and will be removed in version 1.0.0. Downloads always resume when possible. If you want to force a new download, use `force_download=True`.\n",
      "  warnings.warn(\n"
     ]
    }
   ],
   "source": [
    "# Cargar el modelo y el tokenizer\n",
    "model_zero_regression = \"t5-small\"\n",
    "tokenizer_zero_regression = T5Tokenizer.from_pretrained(model_zero_regression)\n",
    "model_zero_regression = T5ForConditionalGeneration.from_pretrained(model_zero_regression)\n"
   ]
  },
  {
   "cell_type": "code",
   "execution_count": 60,
   "metadata": {},
   "outputs": [],
   "source": [
    "def run_t5_model(texto_entrada, umbral):\n",
    "    # Crear el prompt\n",
    "    prompt_zero_regression = (f\"Rate the sentiment of the following text from 0 to 4: {texto_entrada}\")\n",
    "    \n",
    "    # Tokenizar y generar la respuesta\n",
    "    inputs_zero_regression = tokenizer_zero_regression(prompt_zero_regression, return_tensors=\"pt\", max_length=512, truncation=True)\n",
    "    with torch.no_grad():\n",
    "        output_zero_regression = model_zero_regression.generate(**inputs_zero_regression)\n",
    "    \n",
    "    # Decodificar y extraer la puntuación\n",
    "    result_zero_regression = tokenizer_zero_regression.decode(output_zero_regression[0], skip_special_tokens=True).strip()\n",
    "    match_zero_regression = re.search(r'\\b[0-4]\\b', result_zero_regression)  \n",
    "    probabilidad_zero_regression = float(match_zero_regression.group()) if match_zero_regression else None\n",
    "    \n",
    "    # Aplicar filtro por umbral\n",
    "    return \"No estoy seguro\" if probabilidad_zero_regression is None or probabilidad_zero_regression < umbral else probabilidad_zero_regression"
   ]
  },
  {
   "cell_type": "code",
   "execution_count": 8,
   "metadata": {},
   "outputs": [],
   "source": [
    "predictions_zero_regression = []\n",
    "umbral = 1"
   ]
  },
  {
   "cell_type": "code",
   "execution_count": 69,
   "metadata": {},
   "outputs": [
    {
     "name": "stderr",
     "output_type": "stream",
     "text": [
      "C:\\Users\\micha\\AppData\\Local\\Packages\\PythonSoftwareFoundation.Python.3.11_qbz5n2kfra8p0\\LocalCache\\local-packages\\Python311\\site-packages\\transformers\\generation\\utils.py:1353: UserWarning: Using `max_length`'s default (20) to control the generation length. This behaviour is deprecated and will be removed from the config in v5 of Transformers -- we recommend using `max_new_tokens` to control the maximum length of the generation.\n",
      "  warnings.warn(\n"
     ]
    }
   ],
   "source": [
    "for text in texts:\n",
    "    result_zero_regression = run_t5_model(text, umbral)  \n",
    "    # Extraer la probabilidad de la respuesta si está en el resultado\n",
    "    probabilidad_zero_regression = float(result_zero_regression) if isinstance(result_zero_regression, (int, float)) else None\n",
    "    predictions_zero_regression.append(probabilidad_zero_regression)"
   ]
  },
  {
   "cell_type": "code",
   "execution_count": 70,
   "metadata": {},
   "outputs": [],
   "source": [
    "# Filtrar predicciones válidas\n",
    "filtered_true_labels_zero_regression = [true_labels.iloc[i] for i in range(len(predictions_zero_regression)) if i < len(true_labels) and predictions_zero_regression[i] is not None]\n",
    "filtered_predictions_zero_regression = [pred for pred in predictions_zero_regression if pred is not None]"
   ]
  },
  {
   "cell_type": "markdown",
   "metadata": {},
   "source": [
    "### Analisis con MSE"
   ]
  },
  {
   "cell_type": "code",
   "execution_count": 74,
   "metadata": {},
   "outputs": [
    {
     "name": "stdout",
     "output_type": "stream",
     "text": [
      "Mean Squared Error: 5.333333333333333\n"
     ]
    }
   ],
   "source": [
    "# Calcular MSE\n",
    "if filtered_true_labels_zero_regression and filtered_predictions_zero_regression:\n",
    "    mse = mean_squared_error(filtered_true_labels_zero_regression, filtered_predictions_zero_regression)\n",
    "    print(f\"Mean Squared Error: {mse}\")\n",
    "else:\n",
    "    print(\"No se pudieron calcular métricas debido a predicciones insuficientes.\")"
   ]
  }
 ],
 "metadata": {
  "kernelspec": {
   "display_name": "Python 3",
   "language": "python",
   "name": "python3"
  },
  "language_info": {
   "codemirror_mode": {
    "name": "ipython",
    "version": 3
   },
   "file_extension": ".py",
   "mimetype": "text/x-python",
   "name": "python",
   "nbconvert_exporter": "python",
   "pygments_lexer": "ipython3",
   "version": "3.11.9"
  }
 },
 "nbformat": 4,
 "nbformat_minor": 2
}
