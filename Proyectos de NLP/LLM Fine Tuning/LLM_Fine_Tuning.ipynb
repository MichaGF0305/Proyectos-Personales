{
 "cells": [
  {
   "cell_type": "code",
   "execution_count": 62,
   "metadata": {},
   "outputs": [],
   "source": [
    "# Importacion de librerias\n",
    "import os\n",
    "import pandas as pd\n",
    "import transformers as tr\n",
    "import accelerate\n",
    "import torch\n",
    "import numpy as np\n",
    "import matplotlib.pyplot as plt\n",
    "import seaborn as sns\n",
    "from transformers import pipeline\n",
    "from sklearn.metrics import confusion_matrix, accuracy_score, ConfusionMatrixDisplay,  classification_report\n",
    "from transformers import DataCollatorForTokenClassification\n",
    "from transformers import AutoTokenizer, T5Tokenizer,T5ForConditionalGeneration, TrainingArguments, Trainer, DataCollatorForSeq2Seq, AutoModelForSequenceClassification\n",
    "from datasets import load_dataset, load_metric\n",
    "from torch.optim import AdamW"
   ]
  },
  {
   "cell_type": "markdown",
   "metadata": {},
   "source": [
    "# Summarization"
   ]
  },
  {
   "cell_type": "markdown",
   "metadata": {},
   "source": [
    "## FineTuning Summarizazer"
   ]
  },
  {
   "cell_type": "code",
   "execution_count": 2,
   "metadata": {},
   "outputs": [
    {
     "data": {
      "text/plain": [
       "DatasetDict({\n",
       "    train: Dataset({\n",
       "        features: ['Unnamed: 0', 'text', 'summary'],\n",
       "        num_rows: 47\n",
       "    })\n",
       "    test: Dataset({\n",
       "        features: ['Unnamed: 0', 'text', 'summary'],\n",
       "        num_rows: 47\n",
       "    })\n",
       "})"
      ]
     },
     "execution_count": 2,
     "metadata": {},
     "output_type": "execute_result"
    }
   ],
   "source": [
    "# Descarga del dataset a utilizar para entrenamiento\n",
    "text_dataset = load_dataset(\"yasminesarraj/texts_summary\",\n",
    "cache_dir= \"local-datasets\", trust_remote_code=True                \n",
    ")\n",
    "text_dataset"
   ]
  },
  {
   "cell_type": "code",
   "execution_count": 3,
   "metadata": {},
   "outputs": [
    {
     "data": {
      "text/plain": [
       "DatasetDict({\n",
       "    train: Dataset({\n",
       "        features: ['condition_label', 'medical_abstract'],\n",
       "        num_rows: 11550\n",
       "    })\n",
       "    test: Dataset({\n",
       "        features: ['condition_label', 'medical_abstract'],\n",
       "        num_rows: 2888\n",
       "    })\n",
       "})"
      ]
     },
     "execution_count": 3,
     "metadata": {},
     "output_type": "execute_result"
    }
   ],
   "source": [
    "# Dataset que sera utilizado para resumir\n",
    "medical_text = load_dataset(\"123rc/medical_text\",\n",
    "cache_dir= \"local-datasets\", trust_remote_code=True                \n",
    ")\n",
    "medical_text"
   ]
  },
  {
   "cell_type": "code",
   "execution_count": 4,
   "metadata": {},
   "outputs": [
    {
     "name": "stderr",
     "output_type": "stream",
     "text": [
      "C:\\Users\\micha\\AppData\\Local\\Packages\\PythonSoftwareFoundation.Python.3.11_qbz5n2kfra8p0\\LocalCache\\local-packages\\Python311\\site-packages\\huggingface_hub\\file_download.py:1132: FutureWarning: `resume_download` is deprecated and will be removed in version 1.0.0. Downloads always resume when possible. If you want to force a new download, use `force_download=True`.\n",
      "  warnings.warn(\n",
      "C:\\Users\\micha\\AppData\\Local\\Packages\\PythonSoftwareFoundation.Python.3.11_qbz5n2kfra8p0\\LocalCache\\local-packages\\Python311\\site-packages\\transformers\\models\\t5\\tokenization_t5.py:163: FutureWarning: This tokenizer was incorrectly instantiated with a model max length of 512 which will be corrected in Transformers v5.\n",
      "For now, this behavior is kept to avoid breaking backwards compatibility when padding/encoding with `truncation is True`.\n",
      "- Be aware that you SHOULD NOT rely on t5-base automatically truncating your input to 512 when padding/encoding.\n",
      "- If you want to encode/pad to sequences longer than 512 you can either instantiate this tokenizer with `model_max_length` or pass `max_length` when encoding/padding.\n",
      "- To avoid this warning, please instantiate this tokenizer with `model_max_length` set to your preferred value.\n",
      "  warnings.warn(\n"
     ]
    }
   ],
   "source": [
    "# Configurar el modelo y el tokenizer\n",
    "model_checkpoint = \"t5-base\"\n",
    "tokenizer = T5Tokenizer.from_pretrained(model_checkpoint, cache_dir=\"local-datasets\")\n",
    "model = T5ForConditionalGeneration.from_pretrained(model_checkpoint, cache_dir=\"local-datasets\")"
   ]
  },
  {
   "cell_type": "code",
   "execution_count": 5,
   "metadata": {},
   "outputs": [
    {
     "data": {
      "text/plain": [
       "T5ForConditionalGeneration(\n",
       "  (shared): Embedding(32128, 768)\n",
       "  (encoder): T5Stack(\n",
       "    (embed_tokens): Embedding(32128, 768)\n",
       "    (block): ModuleList(\n",
       "      (0): T5Block(\n",
       "        (layer): ModuleList(\n",
       "          (0): T5LayerSelfAttention(\n",
       "            (SelfAttention): T5Attention(\n",
       "              (q): Linear(in_features=768, out_features=768, bias=False)\n",
       "              (k): Linear(in_features=768, out_features=768, bias=False)\n",
       "              (v): Linear(in_features=768, out_features=768, bias=False)\n",
       "              (o): Linear(in_features=768, out_features=768, bias=False)\n",
       "              (relative_attention_bias): Embedding(32, 12)\n",
       "            )\n",
       "            (layer_norm): T5LayerNorm()\n",
       "            (dropout): Dropout(p=0.1, inplace=False)\n",
       "          )\n",
       "          (1): T5LayerFF(\n",
       "            (DenseReluDense): T5DenseActDense(\n",
       "              (wi): Linear(in_features=768, out_features=3072, bias=False)\n",
       "              (wo): Linear(in_features=3072, out_features=768, bias=False)\n",
       "              (dropout): Dropout(p=0.1, inplace=False)\n",
       "              (act): ReLU()\n",
       "            )\n",
       "            (layer_norm): T5LayerNorm()\n",
       "            (dropout): Dropout(p=0.1, inplace=False)\n",
       "          )\n",
       "        )\n",
       "      )\n",
       "      (1-11): 11 x T5Block(\n",
       "        (layer): ModuleList(\n",
       "          (0): T5LayerSelfAttention(\n",
       "            (SelfAttention): T5Attention(\n",
       "              (q): Linear(in_features=768, out_features=768, bias=False)\n",
       "              (k): Linear(in_features=768, out_features=768, bias=False)\n",
       "              (v): Linear(in_features=768, out_features=768, bias=False)\n",
       "              (o): Linear(in_features=768, out_features=768, bias=False)\n",
       "            )\n",
       "            (layer_norm): T5LayerNorm()\n",
       "            (dropout): Dropout(p=0.1, inplace=False)\n",
       "          )\n",
       "          (1): T5LayerFF(\n",
       "            (DenseReluDense): T5DenseActDense(\n",
       "              (wi): Linear(in_features=768, out_features=3072, bias=False)\n",
       "              (wo): Linear(in_features=3072, out_features=768, bias=False)\n",
       "              (dropout): Dropout(p=0.1, inplace=False)\n",
       "              (act): ReLU()\n",
       "            )\n",
       "            (layer_norm): T5LayerNorm()\n",
       "            (dropout): Dropout(p=0.1, inplace=False)\n",
       "          )\n",
       "        )\n",
       "      )\n",
       "    )\n",
       "    (final_layer_norm): T5LayerNorm()\n",
       "    (dropout): Dropout(p=0.1, inplace=False)\n",
       "  )\n",
       "  (decoder): T5Stack(\n",
       "    (embed_tokens): Embedding(32128, 768)\n",
       "    (block): ModuleList(\n",
       "      (0): T5Block(\n",
       "        (layer): ModuleList(\n",
       "          (0): T5LayerSelfAttention(\n",
       "            (SelfAttention): T5Attention(\n",
       "              (q): Linear(in_features=768, out_features=768, bias=False)\n",
       "              (k): Linear(in_features=768, out_features=768, bias=False)\n",
       "              (v): Linear(in_features=768, out_features=768, bias=False)\n",
       "              (o): Linear(in_features=768, out_features=768, bias=False)\n",
       "              (relative_attention_bias): Embedding(32, 12)\n",
       "            )\n",
       "            (layer_norm): T5LayerNorm()\n",
       "            (dropout): Dropout(p=0.1, inplace=False)\n",
       "          )\n",
       "          (1): T5LayerCrossAttention(\n",
       "            (EncDecAttention): T5Attention(\n",
       "              (q): Linear(in_features=768, out_features=768, bias=False)\n",
       "              (k): Linear(in_features=768, out_features=768, bias=False)\n",
       "              (v): Linear(in_features=768, out_features=768, bias=False)\n",
       "              (o): Linear(in_features=768, out_features=768, bias=False)\n",
       "            )\n",
       "            (layer_norm): T5LayerNorm()\n",
       "            (dropout): Dropout(p=0.1, inplace=False)\n",
       "          )\n",
       "          (2): T5LayerFF(\n",
       "            (DenseReluDense): T5DenseActDense(\n",
       "              (wi): Linear(in_features=768, out_features=3072, bias=False)\n",
       "              (wo): Linear(in_features=3072, out_features=768, bias=False)\n",
       "              (dropout): Dropout(p=0.1, inplace=False)\n",
       "              (act): ReLU()\n",
       "            )\n",
       "            (layer_norm): T5LayerNorm()\n",
       "            (dropout): Dropout(p=0.1, inplace=False)\n",
       "          )\n",
       "        )\n",
       "      )\n",
       "      (1-11): 11 x T5Block(\n",
       "        (layer): ModuleList(\n",
       "          (0): T5LayerSelfAttention(\n",
       "            (SelfAttention): T5Attention(\n",
       "              (q): Linear(in_features=768, out_features=768, bias=False)\n",
       "              (k): Linear(in_features=768, out_features=768, bias=False)\n",
       "              (v): Linear(in_features=768, out_features=768, bias=False)\n",
       "              (o): Linear(in_features=768, out_features=768, bias=False)\n",
       "            )\n",
       "            (layer_norm): T5LayerNorm()\n",
       "            (dropout): Dropout(p=0.1, inplace=False)\n",
       "          )\n",
       "          (1): T5LayerCrossAttention(\n",
       "            (EncDecAttention): T5Attention(\n",
       "              (q): Linear(in_features=768, out_features=768, bias=False)\n",
       "              (k): Linear(in_features=768, out_features=768, bias=False)\n",
       "              (v): Linear(in_features=768, out_features=768, bias=False)\n",
       "              (o): Linear(in_features=768, out_features=768, bias=False)\n",
       "            )\n",
       "            (layer_norm): T5LayerNorm()\n",
       "            (dropout): Dropout(p=0.1, inplace=False)\n",
       "          )\n",
       "          (2): T5LayerFF(\n",
       "            (DenseReluDense): T5DenseActDense(\n",
       "              (wi): Linear(in_features=768, out_features=3072, bias=False)\n",
       "              (wo): Linear(in_features=3072, out_features=768, bias=False)\n",
       "              (dropout): Dropout(p=0.1, inplace=False)\n",
       "              (act): ReLU()\n",
       "            )\n",
       "            (layer_norm): T5LayerNorm()\n",
       "            (dropout): Dropout(p=0.1, inplace=False)\n",
       "          )\n",
       "        )\n",
       "      )\n",
       "    )\n",
       "    (final_layer_norm): T5LayerNorm()\n",
       "    (dropout): Dropout(p=0.1, inplace=False)\n",
       "  )\n",
       "  (lm_head): Linear(in_features=768, out_features=32128, bias=False)\n",
       ")"
      ]
     },
     "execution_count": 5,
     "metadata": {},
     "output_type": "execute_result"
    }
   ],
   "source": [
    "# Configurar el dispositivo\n",
    "device = torch.device(\"cuda\" if torch.cuda.is_available() else \"cpu\")\n",
    "model.to(device)"
   ]
  },
  {
   "cell_type": "code",
   "execution_count": 6,
   "metadata": {},
   "outputs": [],
   "source": [
    "def preprocess_function(examples):\n",
    "    inputs = examples['text']\n",
    "    model_inputs = tokenizer(inputs, max_length=512, truncation=True, padding=\"max_length\")\n",
    "\n",
    "    with tokenizer.as_target_tokenizer():\n",
    "        labels = tokenizer(examples['summary'], max_length=250, truncation=True, padding=\"max_length\")\n",
    "\n",
    "    model_inputs[\"labels\"] = labels[\"input_ids\"]\n",
    "    return model_inputs\n",
    "\n",
    "# Tokenizar el dataset\n",
    "tokenized_dataset = text_dataset.map(preprocess_function, batched=True, remove_columns=['text', 'summary', 'Unnamed: 0'])\n",
    "\n",
    "# Dividir el dataset en entrenamiento y evaluación\n",
    "train_dataset = tokenized_dataset[\"train\"]\n",
    "eval_dataset = tokenized_dataset[\"test\"]"
   ]
  },
  {
   "cell_type": "code",
   "execution_count": 7,
   "metadata": {},
   "outputs": [],
   "source": [
    "# Configurar el Data Collator\n",
    "data_collator = DataCollatorForSeq2Seq(tokenizer, model=model, padding=\"longest\")\n",
    "\n",
    "# Configuración de los argumentos de entrenamiento\n",
    "training_args = TrainingArguments(\n",
    "    output_dir=\"./results\",\n",
    "    evaluation_strategy=\"epoch\",\n",
    "    learning_rate=1e-5,\n",
    "    per_device_train_batch_size=8,\n",
    "    per_device_eval_batch_size=8,\n",
    "    num_train_epochs=3,\n",
    "    weight_decay=0.01,\n",
    "    logging_dir=\"./logs\",\n",
    "    logging_steps=10,\n",
    "    save_steps=10_000,\n",
    "    save_total_limit=2,\n",
    "\n",
    ")\n",
    "\n",
    "# Inicializar el Trainer\n",
    "trainer = Trainer(\n",
    "    model=model,\n",
    "    args=training_args,\n",
    "    train_dataset=train_dataset,\n",
    "    eval_dataset=eval_dataset,\n",
    "    tokenizer=tokenizer,\n",
    "    data_collator=data_collator,\n",
    ")"
   ]
  },
  {
   "cell_type": "code",
   "execution_count": null,
   "metadata": {},
   "outputs": [],
   "source": [
    "# Entrenar el modelo\n",
    "train_results = trainer.train()"
   ]
  },
  {
   "cell_type": "code",
   "execution_count": 9,
   "metadata": {},
   "outputs": [
    {
     "name": "stderr",
     "output_type": "stream",
     "text": [
      "100%|██████████| 6/6 [01:55<00:00, 19.32s/it]\n"
     ]
    }
   ],
   "source": [
    "# Evaluar el modelo\n",
    "eval_results = trainer.evaluate()"
   ]
  },
  {
   "cell_type": "code",
   "execution_count": 10,
   "metadata": {},
   "outputs": [
    {
     "data": {
      "text/plain": [
       "('path_to_save_fine_tuned_model\\\\tokenizer_config.json',\n",
       " 'path_to_save_fine_tuned_model\\\\special_tokens_map.json',\n",
       " 'path_to_save_fine_tuned_model\\\\spiece.model',\n",
       " 'path_to_save_fine_tuned_model\\\\added_tokens.json')"
      ]
     },
     "execution_count": 10,
     "metadata": {},
     "output_type": "execute_result"
    }
   ],
   "source": [
    "# Guardar el modelo\n",
    "model.save_pretrained(\"path_to_save_fine_tuned_model\")\n",
    "tokenizer.save_pretrained(\"path_to_save_fine_tuned_model\")"
   ]
  },
  {
   "cell_type": "code",
   "execution_count": 11,
   "metadata": {},
   "outputs": [],
   "source": [
    "# Función para generar una predicción\n",
    "def generate_summary(text):\n",
    "    inputs = tokenizer(text, return_tensors=\"pt\", max_length=512, truncation=True).to(device)\n",
    "    summary_ids = model.generate(\n",
    "        inputs[\"input_ids\"],\n",
    "        max_length=250,\n",
    "        min_length=50,\n",
    "        length_penalty=2.0,\n",
    "        num_beams=4,\n",
    "        early_stopping=True\n",
    "    )\n",
    "    summary = tokenizer.decode(summary_ids[0], skip_special_tokens=True)\n",
    "    return summary"
   ]
  },
  {
   "cell_type": "code",
   "execution_count": 12,
   "metadata": {},
   "outputs": [
    {
     "name": "stdout",
     "output_type": "stream",
     "text": [
      "Texto Original: Tissue changes around loose prostheses. A canine model to investigate the effects of an antiinflammatory agent. The aseptically loosened prosthesis provided a means for investigating the in vivo and in vitro activity of the cells associated with the loosening process in seven dogs. The cells were isolated and maintained in culture for sufficient periods of time so that their biologic activity could be studied as well as the effect of different agents added to the cells in vivo or in vitro. The biologic response as determined by interleukin-1 and prostaglandin E2 activity paralleled the roentgenographic appearance of loosening and the technetium images and observations made at the time of revision surgery. The correlation between clinical, roentgenographic, histologic, and biochemical loosening indicates that the canine model is suitable for investigating the mechanisms of prosthetic failure. A canine model permits the study of possible nonsurgical therapeutic interventions with the ultimate hope of stopping or slowing the loosening process. \n",
      "Resumen Generado: A canine model to investigate the effects of an antiinflammatory agent. Tissue changes around loose prostheses. Tissue changes around loose prostheses. A canine model to investigate the effects of an antiinflammatory agent. A canine model to investigate the effects of an antiinflammatory agent.\n"
     ]
    }
   ],
   "source": [
    "# Probar la generación de resumen con una muestra\n",
    "sample_text = medical_text['train'][0]['medical_abstract']\n",
    "generated_summary = generate_summary(sample_text)\n",
    "print(f\"Texto Original: {sample_text}\")\n",
    "print(f\"Resumen Generado: {generated_summary}\")"
   ]
  },
  {
   "cell_type": "markdown",
   "metadata": {},
   "source": [
    "### Analisis con Rougue"
   ]
  },
  {
   "cell_type": "code",
   "execution_count": 10,
   "metadata": {},
   "outputs": [],
   "source": [
    "# Función para generar resúmenes\n",
    "def generate_summary(text):\n",
    "    inputs = tokenizer(text, return_tensors=\"pt\", max_length=512, truncation=True).to(device)\n",
    "    summary_ids = model.generate(\n",
    "        inputs[\"input_ids\"],\n",
    "        max_length=150,\n",
    "        min_length=50,\n",
    "        length_penalty=2.0,\n",
    "        num_beams=4,\n",
    "        early_stopping=True\n",
    "    )\n",
    "    summary = tokenizer.decode(summary_ids[0], skip_special_tokens=True)\n",
    "    return summary"
   ]
  },
  {
   "cell_type": "code",
   "execution_count": 11,
   "metadata": {},
   "outputs": [],
   "source": [
    "# Generar resúmenes para el conjunto de evaluación\n",
    "def generate_summaries(dataset, num_samples=100):\n",
    "    generated_summaries = []\n",
    "    references = []\n",
    "    for i, example in enumerate(dataset):\n",
    "        if i >= num_samples:\n",
    "            break\n",
    "        text = tokenizer.decode(example['input_ids'], skip_special_tokens=True)\n",
    "        reference_summary = tokenizer.decode(example['labels'], skip_special_tokens=True)\n",
    "        generated_summary = generate_summary(text)\n",
    "        generated_summaries.append(generated_summary)\n",
    "        references.append(reference_summary)\n",
    "    return generated_summaries, references"
   ]
  },
  {
   "cell_type": "code",
   "execution_count": null,
   "metadata": {},
   "outputs": [],
   "source": [
    "# Generar resúmenes para el conjunto de evaluación\n",
    "generated_summaries, references = generate_summaries(eval_dataset)\n",
    "\n",
    "# Calcular las métricas ROUGE\n",
    "rouge_metric = load_metric(\"rouge\")\n",
    "results = rouge_metric.compute(predictions=generated_summaries, references=references)"
   ]
  },
  {
   "cell_type": "code",
   "execution_count": null,
   "metadata": {},
   "outputs": [
    {
     "name": "stdout",
     "output_type": "stream",
     "text": [
      "ROUGE Scores:\n",
      "rouge1:\n",
      "  Precision: 0.4088\n",
      "  Recall: 0.2767\n",
      "  F1 Score: 0.3253\n",
      "rouge2:\n",
      "  Precision: 0.1716\n",
      "  Recall: 0.1158\n",
      "  F1 Score: 0.1364\n",
      "rougeL:\n",
      "  Precision: 0.2773\n",
      "  Recall: 0.1855\n",
      "  F1 Score: 0.2187\n",
      "rougeLsum:\n",
      "  Precision: 0.2757\n",
      "  Recall: 0.1845\n",
      "  F1 Score: 0.2174\n"
     ]
    }
   ],
   "source": [
    "# Mostrar resultados\n",
    "def print_rouge_scores(results):\n",
    "    print(\"ROUGE Scores:\")\n",
    "    for key, value in results.items():\n",
    "        print(f\"{key}:\")\n",
    "        print(f\"  Precision: {value.mid.precision:.4f}\")\n",
    "        print(f\"  Recall: {value.mid.recall:.4f}\")\n",
    "        print(f\"  F1 Score: {value.mid.fmeasure:.4f}\")\n",
    "\n",
    "print_rouge_scores(results)"
   ]
  },
  {
   "cell_type": "markdown",
   "metadata": {},
   "source": [
    "## Summarizazer Model"
   ]
  },
  {
   "cell_type": "code",
   "execution_count": 13,
   "metadata": {},
   "outputs": [],
   "source": [
    "# Modelo y parametros\n",
    "t5_summary = pipeline(\n",
    "    task=\"summarization\",\n",
    "    model=\"pszemraj/long-t5-tglobal-base-16384-book-summary\",\n",
    "    min_length=70,\n",
    "    max_length=150,\n",
    "    truncation=True,\n",
    "    model_kwargs={\"cache_dir\":\"local-pipelines\"},\n",
    ")"
   ]
  },
  {
   "cell_type": "code",
   "execution_count": 14,
   "metadata": {},
   "outputs": [
    {
     "name": "stderr",
     "output_type": "stream",
     "text": [
      "Asking to truncate to max_length but no maximum length is provided and the model has no predefined maximum length. Default to no truncation.\n",
      "C:\\Users\\micha\\AppData\\Local\\Packages\\PythonSoftwareFoundation.Python.3.11_qbz5n2kfra8p0\\LocalCache\\local-packages\\Python311\\site-packages\\transformers\\modeling_utils.py:838: FutureWarning: The `device` argument is deprecated and will be removed in v5 of Transformers.\n",
      "  warnings.warn(\n"
     ]
    },
    {
     "name": "stdout",
     "output_type": "stream",
     "text": [
      "n/Texto Original: Tissue changes around loose prostheses. A canine model to investigate the effects of an antiinflammatory agent. The aseptically loosened prosthesis provided a means for investigating the in vivo and in vitro activity of the cells associated with the loosening process in seven dogs. The cells were isolated and maintained in culture for sufficient periods of time so that their biologic activity could be studied as well as the effect of different agents added to the cells in vivo or in vitro. The biologic response as determined by interleukin-1 and prostaglandin E2 activity paralleled the roentgenographic appearance of loosening and the technetium images and observations made at the time of revision surgery. The correlation between clinical, roentgenographic, histologic, and biochemical loosening indicates that the canine model is suitable for investigating the mechanisms of prosthetic failure. A canine model permits the study of possible nonsurgical therapeutic interventions with the ultimate hope of stopping or slowing the loosening process. \n",
      "n/Resumen Generado: [{'summary_text': 'This paper describes a canine model of the loosener process and its potential applications. It uses aseptically packed prostheses to study the effect of an anti-inflammatory agent on the canine. In this paper, we demonstrate that the canines have a highly reversal ability to loosen the prosthesis in response to either interleuin1 or prostaglanden E2, two chemicals that are known to induce reversion in animals.'}]\n"
     ]
    }
   ],
   "source": [
    "# Probar la generación de resumen con una muestra del dataset\n",
    "sample_text = medical_text['train'][0]['medical_abstract']\n",
    "generated_summary = t5_summary(sample_text)\n",
    "print(f\"n/Texto Original: {sample_text}\")\n",
    "print(f\"n/Resumen Generado: {generated_summary}\")"
   ]
  },
  {
   "cell_type": "markdown",
   "metadata": {},
   "source": [
    "### Analisis con Rougue"
   ]
  },
  {
   "cell_type": "code",
   "execution_count": null,
   "metadata": {},
   "outputs": [],
   "source": [
    "# Función para generar resúmenes\n",
    "def generate_summary(text):\n",
    "    return t5_summary(text)[0]['summary_text']"
   ]
  },
  {
   "cell_type": "code",
   "execution_count": null,
   "metadata": {},
   "outputs": [],
   "source": [
    "# Generar resúmenes para el conjunto de evaluación\n",
    "def generate_summaries(dataset, num_samples=10):\n",
    "    generated_summaries = []\n",
    "    references = []\n",
    "    for i, example in enumerate(dataset):\n",
    "        if i >= num_samples:\n",
    "            break\n",
    "        text = example['medical_abstract']\n",
    "        reference_summary = example['medical_abstract'] \n",
    "        generated_summary = generate_summary(text)\n",
    "        generated_summaries.append(generated_summary)\n",
    "        references.append(reference_summary)\n",
    "    return generated_summaries, references"
   ]
  },
  {
   "cell_type": "code",
   "execution_count": null,
   "metadata": {},
   "outputs": [
    {
     "name": "stderr",
     "output_type": "stream",
     "text": [
      "C:\\Users\\micha\\AppData\\Local\\Packages\\PythonSoftwareFoundation.Python.3.11_qbz5n2kfra8p0\\LocalCache\\local-packages\\Python311\\site-packages\\transformers\\modeling_utils.py:838: FutureWarning: The `device` argument is deprecated and will be removed in v5 of Transformers.\n",
      "  warnings.warn(\n"
     ]
    }
   ],
   "source": [
    "# Generar resúmenes para el conjunto de evaluación\n",
    "generated_summaries, references = generate_summaries(medical_text['test'])\n",
    "\n",
    "# Calcular las métricas ROUGE\n",
    "rouge_metric = load_metric(\"rouge\")\n",
    "results = rouge_metric.compute(predictions=generated_summaries, references=references)"
   ]
  },
  {
   "cell_type": "code",
   "execution_count": null,
   "metadata": {},
   "outputs": [
    {
     "name": "stdout",
     "output_type": "stream",
     "text": [
      "ROUGE Scores:\n",
      "rouge1:\n",
      "  Precision: 0.6009\n",
      "  Recall: 0.1964\n",
      "  F1 Score: 0.2887\n",
      "rouge2:\n",
      "  Precision: 0.2130\n",
      "  Recall: 0.0697\n",
      "  F1 Score: 0.1026\n",
      "rougeL:\n",
      "  Precision: 0.4299\n",
      "  Recall: 0.1423\n",
      "  F1 Score: 0.2091\n",
      "rougeLsum:\n",
      "  Precision: 0.4292\n",
      "  Recall: 0.1429\n",
      "  F1 Score: 0.2099\n"
     ]
    }
   ],
   "source": [
    "# Mostrar resultados\n",
    "def print_rouge_scores(results):\n",
    "    print(\"ROUGE Scores:\")\n",
    "    for key, value in results.items():\n",
    "        print(f\"{key}:\")\n",
    "        print(f\"  Precision: {value.mid.precision:.4f}\")\n",
    "        print(f\"  Recall: {value.mid.recall:.4f}\")\n",
    "        print(f\"  F1 Score: {value.mid.fmeasure:.4f}\")\n",
    "\n",
    "print_rouge_scores(results)"
   ]
  },
  {
   "cell_type": "markdown",
   "metadata": {},
   "source": [
    "## Zero-Shot-Learning Summarizazer"
   ]
  },
  {
   "cell_type": "code",
   "execution_count": 15,
   "metadata": {},
   "outputs": [],
   "source": [
    "# Definir el pipeline para zero-shot summarization\n",
    "bart_summary = pipeline(\n",
    "    task=\"summarization\",\n",
    "    model=\"facebook/bart-large-cnn\",\n",
    "    tokenizer=\"facebook/bart-large-cnn\",\n",
    "    min_length=70,\n",
    "    max_length=150,\n",
    "    truncation=True,\n",
    "    model_kwargs={\"cache_dir\": \"local-pipelines\"},\n",
    ")"
   ]
  },
  {
   "cell_type": "code",
   "execution_count": 16,
   "metadata": {},
   "outputs": [
    {
     "name": "stdout",
     "output_type": "stream",
     "text": [
      "\n",
      "Texto Original: Tissue changes around loose prostheses. A canine model to investigate the effects of an antiinflammatory agent. The aseptically loosened prosthesis provided a means for investigating the in vivo and in vitro activity of the cells associated with the loosening process in seven dogs. The cells were isolated and maintained in culture for sufficient periods of time so that their biologic activity could be studied as well as the effect of different agents added to the cells in vivo or in vitro. The biologic response as determined by interleukin-1 and prostaglandin E2 activity paralleled the roentgenographic appearance of loosening and the technetium images and observations made at the time of revision surgery. The correlation between clinical, roentgenographic, histologic, and biochemical loosening indicates that the canine model is suitable for investigating the mechanisms of prosthetic failure. A canine model permits the study of possible nonsurgical therapeutic interventions with the ultimate hope of stopping or slowing the loosening process. \n",
      "\n",
      "Resumen Generado: The aseptically loosened prosthesis provided a means for investigating the in vivo and in vitro activity of the cells associated with the loosening process in seven dogs. The correlation between clinical, roentgenographic, histologic, and biochemical loosening indicates that the canine model is suitable to investigate the mechanisms of prosthetic failure. A canine model permits the study of possible nonsurgical therapeutic interventions.\n"
     ]
    }
   ],
   "source": [
    "# Probar la generación de resumen con una muestra del dataset\n",
    "sample_text = medical_text['train'][0]['medical_abstract']\n",
    "generated_summary = bart_summary(sample_text)[0]['summary_text']\n",
    "print(f\"\\nTexto Original: {sample_text}\")\n",
    "print(f\"\\nResumen Generado: {generated_summary}\")"
   ]
  },
  {
   "cell_type": "markdown",
   "metadata": {},
   "source": [
    "### Analisis con ROUGUE"
   ]
  },
  {
   "cell_type": "code",
   "execution_count": null,
   "metadata": {},
   "outputs": [],
   "source": [
    "# Función para generar resúmenes\n",
    "def generate_summary(text):\n",
    "    return bart_summary(text)[0]['summary_text']\n",
    "\n",
    "# Generar resúmenes para el conjunto de evaluación\n",
    "def generate_summaries(dataset, num_samples=10):\n",
    "    generated_summaries = []\n",
    "    references = []\n",
    "    for i, example in enumerate(dataset):\n",
    "        if i >= num_samples:\n",
    "            break\n",
    "\n",
    "        text = example['medical_abstract']\n",
    "        reference_summary = example['medical_abstract']  \n",
    "        generated_summary = generate_summary(text)\n",
    "        generated_summaries.append(generated_summary)\n",
    "        references.append(reference_summary)\n",
    "    return generated_summaries, references"
   ]
  },
  {
   "cell_type": "code",
   "execution_count": null,
   "metadata": {},
   "outputs": [
    {
     "name": "stderr",
     "output_type": "stream",
     "text": [
      "Your max_length is set to 150, but your input_length is only 147. Since this is a summarization task, where outputs shorter than the input are typically wanted, you might consider decreasing max_length manually, e.g. summarizer('...', max_length=73)\n"
     ]
    },
    {
     "name": "stdout",
     "output_type": "stream",
     "text": [
      "ROUGE Scores:\n",
      "rouge1:\n",
      "  Precision: 0.9922\n",
      "  Recall: 0.3098\n",
      "  F1 Score: 0.4579\n",
      "rouge2:\n",
      "  Precision: 0.9525\n",
      "  Recall: 0.2988\n",
      "  F1 Score: 0.4414\n",
      "rougeL:\n",
      "  Precision: 0.9719\n",
      "  Recall: 0.3067\n",
      "  F1 Score: 0.4526\n",
      "rougeLsum:\n",
      "  Precision: 0.9748\n",
      "  Recall: 0.3087\n",
      "  F1 Score: 0.4547\n"
     ]
    }
   ],
   "source": [
    "# Generar resúmenes para el conjunto de evaluación\n",
    "generated_summaries, references = generate_summaries(medical_text['test'])\n",
    "\n",
    "# Calcular las métricas ROUGE\n",
    "rouge_metric = load_metric(\"rouge\")\n",
    "results = rouge_metric.compute(predictions=generated_summaries, references=references)\n",
    "\n",
    "# Mostrar resultados\n",
    "def print_rouge_scores(results):\n",
    "    print(\"ROUGE Scores:\")\n",
    "    for key, value in results.items():\n",
    "        print(f\"{key}:\")\n",
    "        print(f\"  Precision: {value.mid.precision:.4f}\")\n",
    "        print(f\"  Recall: {value.mid.recall:.4f}\")\n",
    "        print(f\"  F1 Score: {value.mid.fmeasure:.4f}\")\n",
    "\n",
    "print_rouge_scores(results)"
   ]
  },
  {
   "cell_type": "markdown",
   "metadata": {},
   "source": [
    "## Few-Shot-Learning Summarizazer"
   ]
  },
  {
   "cell_type": "code",
   "execution_count": 17,
   "metadata": {},
   "outputs": [],
   "source": [
    "# Configurar el pipeline de generación de resúmenes con vit5-base\n",
    "vit5_summary = pipeline(\n",
    "    task=\"summarization\",\n",
    "    model=\"VietAI/vit5-base\",\n",
    "    tokenizer=\"VietAI/vit5-base\",\n",
    "    device=0 if torch.cuda.is_available() else -1\n",
    ")"
   ]
  },
  {
   "cell_type": "code",
   "execution_count": 18,
   "metadata": {},
   "outputs": [],
   "source": [
    "# Ejemplos de few-shot learning\n",
    "few_shot_examples = [\n",
    "    {\"input_text\": \"This study aims to investigate the efficacy of a new drug for treating hypertension. Preliminary results indicate a significant reduction in blood pressure among patients who received the drug compared to those who received a placebo.\",\n",
    "     \"summary_text\": \"Study shows new drug significantly reduces blood pressure in hypertension patients.\"},\n",
    "    {\"input_text\": \"The novel coronavirus has been shown to cause severe respiratory illness, particularly in elderly patients with underlying health conditions. Vaccination efforts are ongoing to curb the spread of the virus.\",\n",
    "     \"summary_text\": \"COVID-19 causes severe respiratory illness, especially in elderly with health conditions; vaccination efforts continue.\"},\n",
    "]"
   ]
  },
  {
   "cell_type": "code",
   "execution_count": 19,
   "metadata": {},
   "outputs": [],
   "source": [
    "# Función para generar resúmenes\n",
    "def generate_summary(text, examples):\n",
    "    input_text = \"summarize: \" + text + \" Examples: \" + \" \".join([f\"Input: {ex['input_text']} Summary: {ex['summary_text']}\" for ex in examples])\n",
    "    inputs = tokenizer(input_text, return_tensors=\"pt\", max_length=512, truncation=True)\n",
    "    summary_ids = model.generate(inputs[\"input_ids\"], max_length=150, num_beams=4, length_penalty=2.0, early_stopping=True)\n",
    "    summary = tokenizer.decode(summary_ids[0], skip_special_tokens=True)\n",
    "    return summary"
   ]
  },
  {
   "cell_type": "code",
   "execution_count": 23,
   "metadata": {},
   "outputs": [
    {
     "data": {
      "text/plain": [
       "'Tissue changes around loose prostheses. A canine model to investigate the effects of an antiinflammatory agent. The aseptically loosened prosthesis provided a means for investigating the in vivo and in vitro activity of the cells associated with the loosening process in seven dogs. The cells were isolated and maintained in culture for sufficient periods of time so that their biologic activity could be studied as well as the effect of different agents added to the cells in vivo or in vitro. The biologic response as determined by interleukin-1 and prostaglandin E2 activity paralleled the roentgenographic appearance of loosening and the technetium images and observations made at the time of revision surgery. The correlation between clinical, roentgenographic, histologic, and biochemical loosening indicates that the canine model is suitable for investigating the mechanisms of prosthetic failure. A canine model permits the study of possible nonsurgical therapeutic interventions with the ultimate hope of stopping or slowing the loosening process. '"
      ]
     },
     "execution_count": 23,
     "metadata": {},
     "output_type": "execute_result"
    }
   ],
   "source": [
    "medical_text['train'][0]['medical_abstract']"
   ]
  },
  {
   "cell_type": "code",
   "execution_count": 24,
   "metadata": {},
   "outputs": [
    {
     "name": "stdout",
     "output_type": "stream",
     "text": [
      "Texto Original: 'Tissue changes around loose prostheses. A canine model to investigate the effects of an antiinflammatory agent. The aseptically loosened prosthesis provided a means for investigating the in vivo and in vitro activity of the cells associated with the loosening process in seven dogs. The cells were isolated and maintained in culture for sufficient periods of time so that their biologic activity could be studied as well as the effect of different agents added to the cells in vivo or in vitro. The biologic response as determined by interleukin-1 and prostaglandin E2 activity paralleled the roentgenographic appearance of loosening and the technetium images and observations made at the time of revision surgery. The correlation between clinical, roentgenographic, histologic, and biochemical loosening indicates that the canine model is suitable for investigating the mechanisms of prosthetic failure. A canine model permits the study of possible nonsurgical therapeutic interventions with the ultimate hope of stopping or slowing the loosening process.\n",
      "Resumen Generado: the aseptically loosened prosthesis provided a means for investigating the in vivo and in vitro activity of the cells associated with the loosening process. a canine model permits the study of possible nonsurgical therapeutic interventions.\n"
     ]
    }
   ],
   "source": [
    "# Probar la generación de resumen con una muestra\n",
    "sample_text = \"'Tissue changes around loose prostheses. A canine model to investigate the effects of an antiinflammatory agent. The aseptically loosened prosthesis provided a means for investigating the in vivo and in vitro activity of the cells associated with the loosening process in seven dogs. The cells were isolated and maintained in culture for sufficient periods of time so that their biologic activity could be studied as well as the effect of different agents added to the cells in vivo or in vitro. The biologic response as determined by interleukin-1 and prostaglandin E2 activity paralleled the roentgenographic appearance of loosening and the technetium images and observations made at the time of revision surgery. The correlation between clinical, roentgenographic, histologic, and biochemical loosening indicates that the canine model is suitable for investigating the mechanisms of prosthetic failure. A canine model permits the study of possible nonsurgical therapeutic interventions with the ultimate hope of stopping or slowing the loosening process.\"\n",
    "generated_summary = generate_summary(sample_text, few_shot_examples)\n",
    "print(f\"Texto Original: {sample_text}\")\n",
    "print(f\"Resumen Generado: {generated_summary}\")"
   ]
  },
  {
   "cell_type": "markdown",
   "metadata": {},
   "source": [
    "### Analisis con ROUGUE"
   ]
  },
  {
   "cell_type": "code",
   "execution_count": null,
   "metadata": {},
   "outputs": [],
   "source": [
    "# Generar resúmenes para el conjunto de evaluación\n",
    "def generate_summaries(dataset, num_samples=10):\n",
    "    generated_summaries = []\n",
    "    references = []\n",
    "    for i, example in enumerate(dataset):\n",
    "        if i >= num_samples:\n",
    "            break\n",
    "        text = example['medical_abstract']\n",
    "        reference_summary = example['medical_abstract']  # Cambia 'medical_summary' por la clave correcta si es necesario\n",
    "        generated_summary = vit5_summary(text, min_length=50, max_length=150, truncation=True)[0]['summary_text']\n",
    "        generated_summaries.append(generated_summary)\n",
    "        references.append(reference_summary)\n",
    "    return generated_summaries, references"
   ]
  },
  {
   "cell_type": "code",
   "execution_count": null,
   "metadata": {},
   "outputs": [],
   "source": [
    "# Generar resúmenes para el conjunto de evaluación\n",
    "generated_summaries, references = generate_summaries(medical_text['test'])\n",
    "\n",
    "# Calcular las métricas ROUGE\n",
    "rouge_metric = load_metric(\"rouge\")\n",
    "results = rouge_metric.compute(predictions=generated_summaries, references=references)"
   ]
  },
  {
   "cell_type": "code",
   "execution_count": null,
   "metadata": {},
   "outputs": [
    {
     "name": "stdout",
     "output_type": "stream",
     "text": [
      "ROUGE Scores:\n",
      "rouge1:\n",
      "  Precision: 0.4600\n",
      "  Recall: 0.1300\n",
      "  F1 Score: 0.1953\n",
      "rouge2:\n",
      "  Precision: 0.1599\n",
      "  Recall: 0.0437\n",
      "  F1 Score: 0.0654\n",
      "rougeL:\n",
      "  Precision: 0.3456\n",
      "  Recall: 0.0940\n",
      "  F1 Score: 0.1420\n",
      "rougeLsum:\n",
      "  Precision: 0.3507\n",
      "  Recall: 0.0955\n",
      "  F1 Score: 0.1444\n"
     ]
    }
   ],
   "source": [
    "# Mostrar resultados\n",
    "def print_rouge_scores(results):\n",
    "    print(\"ROUGE Scores:\")\n",
    "    for key, value in results.items():\n",
    "        print(f\"{key}:\")\n",
    "        print(f\"  Precision: {value.mid.precision:.4f}\")\n",
    "        print(f\"  Recall: {value.mid.recall:.4f}\")\n",
    "        print(f\"  F1 Score: {value.mid.fmeasure:.4f}\")\n",
    "\n",
    "print_rouge_scores(results)"
   ]
  },
  {
   "cell_type": "markdown",
   "metadata": {},
   "source": [
    "# Clasificacion Text"
   ]
  },
  {
   "cell_type": "markdown",
   "metadata": {},
   "source": [
    "## FineTuning Clasification"
   ]
  },
  {
   "cell_type": "code",
   "execution_count": 25,
   "metadata": {},
   "outputs": [
    {
     "name": "stdout",
     "output_type": "stream",
     "text": [
      "DatasetDict({\n",
      "    train: Dataset({\n",
      "        features: ['text', 'label'],\n",
      "        num_rows: 60000\n",
      "    })\n",
      "    test: Dataset({\n",
      "        features: ['text', 'label'],\n",
      "        num_rows: 3800\n",
      "    })\n",
      "})\n"
     ]
    }
   ],
   "source": [
    "# Cargar el dataset AG News\n",
    "dataset = load_dataset(\"ag_news\")\n",
    "\n",
    "# Diccionario de etiquetas\n",
    "label_dict = {\n",
    "    0: \"World\",\n",
    "    1: \"Sports\",\n",
    "    2: \"Business\",\n",
    "    3: \"Sci/Tech\"\n",
    "}\n",
    "\n",
    "# Filtrar las muestras correspondientes a Sports (1) y Sci/Tech (3)\n",
    "def filter_labels(example):\n",
    "    return example[\"label\"] == 1 or example[\"label\"] == 3\n",
    "\n",
    "filtered_dataset = dataset.filter(filter_labels)\n",
    "\n",
    "# Mapeo de etiquetas para que sean 0 y 1\n",
    "def map_labels(example):\n",
    "    example[\"label\"] = 0 if example[\"label\"] == 1 else 1\n",
    "    return example\n",
    "\n",
    "mapped_dataset = filtered_dataset.map(map_labels)\n",
    "\n",
    "print(mapped_dataset)"
   ]
  },
  {
   "cell_type": "code",
   "execution_count": 26,
   "metadata": {},
   "outputs": [
    {
     "name": "stderr",
     "output_type": "stream",
     "text": [
      "Map:   0%|          | 0/40 [00:00<?, ? examples/s]"
     ]
    },
    {
     "name": "stderr",
     "output_type": "stream",
     "text": [
      "Map: 100%|██████████| 40/40 [00:00<00:00, 77.66 examples/s]\n",
      "Map: 100%|██████████| 40/40 [00:00<00:00, 202.61 examples/s]"
     ]
    },
    {
     "name": "stdout",
     "output_type": "stream",
     "text": [
      "Tokenized Train Dataset: Dataset({\n",
      "    features: ['text', 'label', 'input_ids', 'attention_mask'],\n",
      "    num_rows: 40\n",
      "})\n",
      "Tokenized Test Dataset: Dataset({\n",
      "    features: ['text', 'label', 'input_ids', 'attention_mask'],\n",
      "    num_rows: 40\n",
      "})\n"
     ]
    },
    {
     "name": "stderr",
     "output_type": "stream",
     "text": [
      "\n"
     ]
    }
   ],
   "source": [
    "# Reducir a solo 10 ejemplos para entrenamiento\n",
    "small_train_dataset = mapped_dataset['train'].select(range(40))\n",
    "small_test_dataset = mapped_dataset['test'].select(range(40))\n",
    "\n",
    "# Tokenizar el dataset\n",
    "def tokenize_function(examples):\n",
    "    return tokenizer(examples['text'], padding='max_length', truncation=True)\n",
    "\n",
    "# Aplicar la función de tokenización\n",
    "tokenized_train_dataset = small_train_dataset.map(tokenize_function, batched=True)\n",
    "tokenized_test_dataset = small_test_dataset.map(tokenize_function, batched=True)\n",
    "\n",
    "# Verificar que los datasets tokenizados existan\n",
    "print(\"Tokenized Train Dataset:\", tokenized_train_dataset)\n",
    "print(\"Tokenized Test Dataset:\", tokenized_test_dataset)"
   ]
  },
  {
   "cell_type": "code",
   "execution_count": 27,
   "metadata": {},
   "outputs": [
    {
     "name": "stderr",
     "output_type": "stream",
     "text": [
      "C:\\Users\\micha\\AppData\\Local\\Packages\\PythonSoftwareFoundation.Python.3.11_qbz5n2kfra8p0\\LocalCache\\local-packages\\Python311\\site-packages\\huggingface_hub\\file_download.py:1132: FutureWarning: `resume_download` is deprecated and will be removed in version 1.0.0. Downloads always resume when possible. If you want to force a new download, use `force_download=True`.\n",
      "  warnings.warn(\n"
     ]
    },
    {
     "name": "stderr",
     "output_type": "stream",
     "text": [
      "Some weights of the model checkpoint at distilbert-base-uncased were not used when initializing DistilBertForSequenceClassification: ['vocab_projector.bias', 'vocab_transform.bias', 'vocab_transform.weight', 'vocab_layer_norm.weight', 'vocab_layer_norm.bias']\n",
      "- This IS expected if you are initializing DistilBertForSequenceClassification from the checkpoint of a model trained on another task or with another architecture (e.g. initializing a BertForSequenceClassification model from a BertForPreTraining model).\n",
      "- This IS NOT expected if you are initializing DistilBertForSequenceClassification from the checkpoint of a model that you expect to be exactly identical (initializing a BertForSequenceClassification model from a BertForSequenceClassification model).\n",
      "Some weights of DistilBertForSequenceClassification were not initialized from the model checkpoint at distilbert-base-uncased and are newly initialized: ['classifier.bias', 'pre_classifier.bias', 'pre_classifier.weight', 'classifier.weight']\n",
      "You should probably TRAIN this model on a down-stream task to be able to use it for predictions and inference.\n"
     ]
    }
   ],
   "source": [
    "# Cargar el tokenizer y el modelo\n",
    "tokenizer = AutoTokenizer.from_pretrained(\"distilbert-base-uncased\")\n",
    "model = AutoModelForSequenceClassification.from_pretrained(\"distilbert-base-uncased\", num_labels=2)"
   ]
  },
  {
   "cell_type": "code",
   "execution_count": 28,
   "metadata": {},
   "outputs": [],
   "source": [
    "# Configurar los argumentos de entrenamiento\n",
    "training_args = TrainingArguments(\n",
    "    output_dir=\"./results\",\n",
    "    evaluation_strategy=\"epoch\",\n",
    "    learning_rate=2e-5,\n",
    "    per_device_train_batch_size=2,\n",
    "    per_device_eval_batch_size=2,\n",
    "    num_train_epochs=3,\n",
    "    weight_decay=0.01,\n",
    ")"
   ]
  },
  {
   "cell_type": "code",
   "execution_count": 29,
   "metadata": {},
   "outputs": [],
   "source": [
    "# Función de evaluación\n",
    "def compute_metrics(p):\n",
    "    preds = np.argmax(p.predictions, axis=1)\n",
    "    return {\"accuracy\": (preds == p.label_ids).mean()}"
   ]
  },
  {
   "cell_type": "code",
   "execution_count": 30,
   "metadata": {},
   "outputs": [],
   "source": [
    "# Crear el Trainer\n",
    "trainer = Trainer(\n",
    "    model=model,\n",
    "    args=training_args,\n",
    "    train_dataset= tokenized_train_dataset,\n",
    "    eval_dataset= tokenized_test_dataset,\n",
    "    compute_metrics=compute_metrics,\n",
    ")"
   ]
  },
  {
   "cell_type": "code",
   "execution_count": 114,
   "metadata": {},
   "outputs": [
    {
     "name": "stderr",
     "output_type": "stream",
     "text": [
      "C:\\Users\\micha\\AppData\\Local\\Packages\\PythonSoftwareFoundation.Python.3.11_qbz5n2kfra8p0\\LocalCache\\local-packages\\Python311\\site-packages\\transformers\\optimization.py:411: FutureWarning: This implementation of AdamW is deprecated and will be removed in a future version. Use the PyTorch implementation torch.optim.AdamW instead, or set `no_deprecation_warning=True` to disable this warning\n",
      "  warnings.warn(\n",
      "                                               \n",
      " 33%|███▎      | 20/60 [05:03<07:13, 10.84s/it]"
     ]
    },
    {
     "name": "stdout",
     "output_type": "stream",
     "text": [
      "{'eval_loss': 0.6434991955757141, 'eval_accuracy': 0.725, 'eval_runtime': 82.7362, 'eval_samples_per_second': 0.483, 'eval_steps_per_second': 0.242, 'epoch': 1.0}\n"
     ]
    },
    {
     "name": "stderr",
     "output_type": "stream",
     "text": [
      "                                               \n",
      " 67%|██████▋   | 40/60 [09:29<03:05,  9.28s/it]"
     ]
    },
    {
     "name": "stdout",
     "output_type": "stream",
     "text": [
      "{'eval_loss': 0.9360378384590149, 'eval_accuracy': 0.725, 'eval_runtime': 56.235, 'eval_samples_per_second': 0.711, 'eval_steps_per_second': 0.356, 'epoch': 2.0}\n"
     ]
    },
    {
     "name": "stderr",
     "output_type": "stream",
     "text": [
      "                                               \n",
      "100%|██████████| 60/60 [14:39<00:00, 14.66s/it]\n"
     ]
    },
    {
     "name": "stdout",
     "output_type": "stream",
     "text": [
      "{'eval_loss': 1.0363500118255615, 'eval_accuracy': 0.725, 'eval_runtime': 101.5945, 'eval_samples_per_second': 0.394, 'eval_steps_per_second': 0.197, 'epoch': 3.0}\n",
      "{'train_runtime': 879.846, 'train_samples_per_second': 0.136, 'train_steps_per_second': 0.068, 'train_loss': 0.13502159118652343, 'epoch': 3.0}\n"
     ]
    },
    {
     "data": {
      "text/plain": [
       "TrainOutput(global_step=60, training_loss=0.13502159118652343, metrics={'train_runtime': 879.846, 'train_samples_per_second': 0.136, 'train_steps_per_second': 0.068, 'train_loss': 0.13502159118652343, 'epoch': 3.0})"
      ]
     },
     "execution_count": 114,
     "metadata": {},
     "output_type": "execute_result"
    }
   ],
   "source": [
    "trainer.train()"
   ]
  },
  {
   "cell_type": "code",
   "execution_count": 115,
   "metadata": {},
   "outputs": [
    {
     "name": "stderr",
     "output_type": "stream",
     "text": [
      "100%|██████████| 20/20 [00:57<00:00,  2.89s/it]\n"
     ]
    },
    {
     "data": {
      "text/plain": [
       "{'eval_loss': 1.0363500118255615,\n",
       " 'eval_accuracy': 0.725,\n",
       " 'eval_runtime': 63.7437,\n",
       " 'eval_samples_per_second': 0.628,\n",
       " 'eval_steps_per_second': 0.314,\n",
       " 'epoch': 3.0}"
      ]
     },
     "execution_count": 115,
     "metadata": {},
     "output_type": "execute_result"
    }
   ],
   "source": [
    "trainer.evaluate()"
   ]
  },
  {
   "cell_type": "code",
   "execution_count": 31,
   "metadata": {},
   "outputs": [
    {
     "data": {
      "text/plain": [
       "('path_to_save_fine_tuned_model\\\\tokenizer_config.json',\n",
       " 'path_to_save_fine_tuned_model\\\\special_tokens_map.json',\n",
       " 'path_to_save_fine_tuned_model\\\\vocab.txt',\n",
       " 'path_to_save_fine_tuned_model\\\\added_tokens.json',\n",
       " 'path_to_save_fine_tuned_model\\\\tokenizer.json')"
      ]
     },
     "execution_count": 31,
     "metadata": {},
     "output_type": "execute_result"
    }
   ],
   "source": [
    "# Guardar el modelo y el tokenizador\n",
    "model.save_pretrained(\"path_to_save_fine_tuned_model\")\n",
    "tokenizer.save_pretrained(\"path_to_save_fine_tuned_model\")"
   ]
  },
  {
   "cell_type": "code",
   "execution_count": 32,
   "metadata": {},
   "outputs": [],
   "source": [
    "# Definir la función de clasificación de texto\n",
    "def classify_text(text):\n",
    "    inputs = tokenizer(text, return_tensors=\"pt\", truncation=True, padding=True)\n",
    "    with torch.no_grad():\n",
    "        outputs = model(**inputs)\n",
    "    logits = outputs.logits\n",
    "    predicted_class = torch.argmax(logits, dim=-1).item()"
   ]
  },
  {
   "cell_type": "code",
   "execution_count": 33,
   "metadata": {},
   "outputs": [],
   "source": [
    "# Probar el modelo con ejemplos\n",
    "texts = [\n",
    "    \"\"\"Researchers at MIT have developed a new type of battery that could revolutionize the way we store energy. Using a novel material that allows for faster charge times and longer battery life, the team believes their invention could significantly impact the electric vehicle market. The battery is also more environmentally friendly, using less rare metals and being easier to recycle.\"\"\",\n",
    "    \"\"\"NASA's James Webb Space Telescope has successfully captured its first images of distant galaxies, revealing details never seen before. The telescope's advanced infrared sensors allow scientists to peer through cosmic dust and study the formation of stars and planets. This groundbreaking technology is expected to provide new insights into the origins of the universe and the potential for life on other planets.\"\"\",\n",
    "    \"\"\"In an exhilarating match last night, the Lakers secured a victory against the Warriors with a final score of 112-109. LeBron James led the team with an impressive 34 points, 8 rebounds, and 10 assists. The game was a nail-biter until the very end, with both teams showcasing their skills and determination. This win places the Lakers in a strong position for the upcoming playoffs.\"\"\",\n",
    "    \"\"\"The Wimbledon tennis championship saw a stunning upset as an unseeded player defeated the defending champion in straight sets. The match, held on Centre Court, captivated audiences as the underdog displayed incredible agility and precision. This unexpected victory has shaken up the tournament, promising an exciting series of matches in the coming days.\"\"\"\n",
    "]\n",
    "\n",
    "# Etiquetas verdaderas para los textos (0: Sci/Tech, 1: Sports)\n",
    "true_labels = [0, 0, 1, 1]"
   ]
  },
  {
   "cell_type": "code",
   "execution_count": 34,
   "metadata": {},
   "outputs": [
    {
     "name": "stdout",
     "output_type": "stream",
     "text": [
      "Predicted Labels: ['Sports', 'Sports', 'World', 'Sports']\n"
     ]
    }
   ],
   "source": [
    "# Clasificar los textos de ejemplo\n",
    "predicted_labels = [classify_text(text) for text in texts]\n",
    "print(\"Predicted Labels:\", predicted_labels)"
   ]
  },
  {
   "cell_type": "code",
   "execution_count": 35,
   "metadata": {},
   "outputs": [
    {
     "name": "stdout",
     "output_type": "stream",
     "text": [
      "True Labels: ['World', 'World', 'Sports', 'Sports']\n"
     ]
    }
   ],
   "source": [
    "# Convertir las etiquetas verdaderas a nombres para comparación\n",
    "true_labels_names = [label_dict[label] for label in true_labels]\n",
    "print(\"True Labels:\", true_labels_names)"
   ]
  },
  {
   "cell_type": "markdown",
   "metadata": {},
   "source": [
    "### Analisis con Accuracy"
   ]
  },
  {
   "cell_type": "code",
   "execution_count": 123,
   "metadata": {},
   "outputs": [],
   "source": [
    "# Cargar métrica de precisión\n",
    "metric = load_metric(\"accuracy\", trust_remote_code=True)"
   ]
  },
  {
   "cell_type": "code",
   "execution_count": 124,
   "metadata": {},
   "outputs": [
    {
     "name": "stdout",
     "output_type": "stream",
     "text": [
      "Accuracy: 0.5\n"
     ]
    }
   ],
   "source": [
    "# Análisis de precisión\n",
    "def accuracy(true_labels, predicted_labels):\n",
    "    correct = sum(t == p for t, p in zip(true_labels, predicted_labels))\n",
    "    return correct / len(true_labels)\n",
    "\n",
    "accuracy_score = accuracy(true_labels_names, predicted_labels)\n",
    "print(\"Accuracy:\", accuracy_score)"
   ]
  },
  {
   "cell_type": "code",
   "execution_count": 52,
   "metadata": {},
   "outputs": [
    {
     "data": {
      "image/png": "[encoded data removed]",
      "text/plain": [
       "<Figure size 800x600 with 2 Axes>"
      ]
     },
     "metadata": {},
     "output_type": "display_data"
    }
   ],
   "source": [
    "# Etiquetas verdaderas y predicciones del modelo de fine-tuning\n",
    "true_labels = ['Sci/Tech', 'Sci/Tech', 'Sports', 'Sports']\n",
    "predicted_labels = ['World', 'World', 'Sports', 'Sports']\n",
    "\n",
    "# Crear la matriz de confusión\n",
    "conf_matrix = confusion_matrix(true_labels, predicted_labels, labels=['Sci/Tech', 'Sports'])\n",
    "\n",
    "# Crear el gráfico de la matriz de confusión\n",
    "plt.figure(figsize=(8, 6))\n",
    "sns.heatmap(conf_matrix, annot=True, fmt='d', cmap='Blues', xticklabels=['Sci/Tech', 'Sports'], yticklabels=['Sci/Tech', 'Sports'])\n",
    "plt.xlabel('Predicted Label')\n",
    "plt.ylabel('True Label')\n",
    "plt.title('Confusion Matrix for Fine-Tuning Model')\n",
    "plt.show()"
   ]
  },
  {
   "cell_type": "markdown",
   "metadata": {},
   "source": [
    "## Classificacion Model"
   ]
  },
  {
   "cell_type": "code",
   "execution_count": 82,
   "metadata": {},
   "outputs": [
    {
     "name": "stderr",
     "output_type": "stream",
     "text": [
      "C:\\Users\\micha\\AppData\\Local\\Packages\\PythonSoftwareFoundation.Python.3.11_qbz5n2kfra8p0\\LocalCache\\local-packages\\Python311\\site-packages\\huggingface_hub\\file_download.py:1132: FutureWarning: `resume_download` is deprecated and will be removed in version 1.0.0. Downloads always resume when possible. If you want to force a new download, use `force_download=True`.\n",
      "  warnings.warn(\n"
     ]
    }
   ],
   "source": [
    "# Descargar el pipeline para clasificación de texto\n",
    "turkish= pipeline(\n",
    "    task=\"text-classification\",\n",
    "    model=\"serdarakyol/interpress-turkish-news-classification\",\n",
    "    device=0 if torch.cuda.is_available() else -1\n",
    ")"
   ]
  },
  {
   "cell_type": "code",
   "execution_count": 83,
   "metadata": {},
   "outputs": [],
   "source": [
    "# Definir los textos de prueba\n",
    "texts = [\n",
    "\n",
    "    \"\"\"Researchers at MIT have developed a \n",
    "    new type of battery that could revolutionize the way we store energy. \n",
    "    Using a novel material that allows for faster charge times and longer battery \n",
    "    life, the team believes their invention could significantly impact the electric \n",
    "    vehicle market. The battery is also more environmentally friendly, using less\n",
    "    rare metals and being easier to recycle.\"\"\",\n",
    "    \n",
    "    \"\"\"NASA's James Webb Space Telescope has successfully \n",
    "    captured its first images of distant galaxies, revealing details never seen \n",
    "    before. The telescope's advanced infrared sensors allow scientists to peer \n",
    "    through cosmic dust and study the formation of stars and planets. This \n",
    "    groundbreaking technology is expected to provide new insights into the \n",
    "    origins of the universe and the potential for life on other planets.\"\"\",\n",
    "    \n",
    "    \"\"\"In an exhilarating match last night, the Lakers secured a victory \n",
    "    against the Warriors with a final score of 112-109. LeBron James led the team \n",
    "    with an impressive 34 points, 8 rebounds, and 10 assists. The game was a \n",
    "    nail-biter until the very end, with both teams showcasing their skills \n",
    "    and determination. This win places the Lakers in a strong position for \n",
    "    the upcoming playoffs.\"\"\",\n",
    "    \n",
    "    \"\"\"The Wimbledon tennis championship saw a stunning upset as an unseeded \n",
    "    player defeated the defending champion in straight sets. The match, held on \n",
    "    Centre Court, captivated audiences as the underdog displayed incredible agility \n",
    "    and precision. This unexpected victory has shaken up the tournament, \n",
    "    promising an exciting series of matches in the coming days.\"\"\"\n",
    "    \n",
    "]\n"
   ]
  },
  {
   "cell_type": "code",
   "execution_count": 84,
   "metadata": {},
   "outputs": [],
   "source": [
    "# Etiquetas esperadas para comparar precisión\n",
    "expected_labels = ['Sci/Tech', 'Sci/Tech', 'Sports', 'Sports']\n",
    "\n",
    "# Clasificar los textos\n",
    "results = [turkish(text) for text in texts]\n",
    "\n",
    "# Extraer las etiquetas predichas\n",
    "predicted_labels = [result[0]['label'] for result in results]\n",
    "\n",
    "# Definir el mapeo de etiquetas\n",
    "label_map = {\n",
    "    'Technology': 'Sci/Tech',\n",
    "    'Sport': 'Sports'\n",
    "}\n",
    "\n",
    "# Mapear las etiquetas predichas a tus categorías\n",
    "mapped_predicted_labels = [label_map.get(label, 'Unknown') for label in predicted_labels]"
   ]
  },
  {
   "cell_type": "code",
   "execution_count": 85,
   "metadata": {},
   "outputs": [
    {
     "name": "stdout",
     "output_type": "stream",
     "text": [
      "Mapped Predicted Label: ['Sci/Tech', 'Sci/Tech', 'Sci/Tech', 'Sci/Tech']\n"
     ]
    }
   ],
   "source": [
    "# Imprimir resultados\n",
    "print(f\"Mapped Predicted Label: {mapped_predicted_labels}\")"
   ]
  },
  {
   "cell_type": "markdown",
   "metadata": {},
   "source": [
    "### Analisis con Accuracy"
   ]
  },
  {
   "cell_type": "code",
   "execution_count": 86,
   "metadata": {},
   "outputs": [
    {
     "name": "stdout",
     "output_type": "stream",
     "text": [
      "Accuracy: 0.50\n"
     ]
    }
   ],
   "source": [
    "# Evaluar precisión\n",
    "accuracy = accuracy_score(expected_labels, mapped_predicted_labels)\n",
    "print(f\"Accuracy: {accuracy:.2f}\")"
   ]
  },
  {
   "cell_type": "code",
   "execution_count": 88,
   "metadata": {},
   "outputs": [
    {
     "data": {
      "image/png": "[encoded data removed]",
      "text/plain": [
       "<Figure size 800x600 with 2 Axes>"
      ]
     },
     "metadata": {},
     "output_type": "display_data"
    }
   ],
   "source": [
    "# Crear matriz de confusión\n",
    "conf_matrix = confusion_matrix(expected_labels, mapped_predicted_labels, labels=['Sci/Tech', 'Sports'])\n",
    "\n",
    "# Crear el gráfico de la matriz de confusión\n",
    "plt.figure(figsize=(8, 6))\n",
    "sns.heatmap(conf_matrix, annot=True, fmt='d', cmap='Blues', xticklabels=['Sci/Tech', 'Sports'], yticklabels=['Sci/Tech', 'Sports'])\n",
    "plt.xlabel('Predicted Label')\n",
    "plt.ylabel('True Label')\n",
    "plt.title('Confusion Matrix of Classificacion Model')\n",
    "plt.show()"
   ]
  },
  {
   "cell_type": "markdown",
   "metadata": {},
   "source": [
    "## Zero-Shot-Learning Classification"
   ]
  },
  {
   "cell_type": "code",
   "execution_count": 65,
   "metadata": {},
   "outputs": [
    {
     "name": "stderr",
     "output_type": "stream",
     "text": [
      "C:\\Users\\micha\\AppData\\Local\\Packages\\PythonSoftwareFoundation.Python.3.11_qbz5n2kfra8p0\\LocalCache\\local-packages\\Python311\\site-packages\\huggingface_hub\\file_download.py:1132: FutureWarning: `resume_download` is deprecated and will be removed in version 1.0.0. Downloads always resume when possible. If you want to force a new download, use `force_download=True`.\n",
      "  warnings.warn(\n"
     ]
    }
   ],
   "source": [
    "# Descargar el pipeline para clasificación de texto con zero-shot learning\n",
    "zero_shot_classifier = pipeline(\"zero-shot-classification\", \n",
    "                                model=\"sileod/deberta-v3-small-tasksource-nli\")"
   ]
  },
  {
   "cell_type": "code",
   "execution_count": 66,
   "metadata": {},
   "outputs": [],
   "source": [
    "# Definir los textos de prueba\n",
    "texts = [\n",
    "    \"\"\"Researchers at MIT have developed a \n",
    "    new type of battery that could revolutionize the way we store energy. \n",
    "    Using a novel material that allows for faster charge times and longer battery \n",
    "    life, the team believes their invention could significantly impact the electric \n",
    "    vehicle market. The battery is also more environmentally friendly, using less\n",
    "    rare metals and being easier to recycle.\"\"\",\n",
    "    \n",
    "    \"\"\"NASA's James Webb Space Telescope has successfully \n",
    "    captured its first images of distant galaxies, revealing details never seen \n",
    "    before. The telescope's advanced infrared sensors allow scientists to peer \n",
    "    through cosmic dust and study the formation of stars and planets. This \n",
    "    groundbreaking technology is expected to provide new insights into the \n",
    "    origins of the universe and the potential for life on other planets.\"\"\",\n",
    "    \n",
    "    \"\"\"In an exhilarating match last night, the Lakers secured a victory \n",
    "    against the Warriors with a final score of 112-109. LeBron James led the team \n",
    "    with an impressive 34 points, 8 rebounds, and 10 assists. The game was a \n",
    "    nail-biter until the very end, with both teams showcasing their skills \n",
    "    and determination. This win places the Lakers in a strong position for \n",
    "    the upcoming playoffs.\"\"\",\n",
    "    \n",
    "    \"\"\"The Wimbledon tennis championship saw a stunning upset as an unseeded \n",
    "    player defeated the defending champion in straight sets. The match, held on \n",
    "    Centre Court, captivated audiences as the underdog displayed incredible agility \n",
    "    and precision. This unexpected victory has shaken up the tournament, \n",
    "    promising an exciting series of matches in the coming days.\"\"\"\n",
    "]\n"
   ]
  },
  {
   "cell_type": "code",
   "execution_count": 67,
   "metadata": {},
   "outputs": [
    {
     "name": "stderr",
     "output_type": "stream",
     "text": [
      "Asking to truncate to max_length but no maximum length is provided and the model has no predefined maximum length. Default to no truncation.\n"
     ]
    },
    {
     "name": "stdout",
     "output_type": "stream",
     "text": [
      "Raw Predicted Labels: ['Sci/Tech', 'Sci/Tech', 'Sports', 'Sports']\n"
     ]
    }
   ],
   "source": [
    "# Etiquetas esperadas\n",
    "expected_labels = ['Sci/Tech', 'Sci/Tech', 'Sports', 'Sports']\n",
    "\n",
    "# Clasificar los textos\n",
    "results = [zero_shot_classifier(text, candidate_labels=['Sports', 'Sci/Tech']) for text in texts]\n",
    "\n",
    "# Extraer las etiquetas predichas\n",
    "predicted_labels = [result['labels'][0] for result in results]\n",
    "\n",
    "# Verificar las etiquetas predichas\n",
    "print(\"Raw Predicted Labels:\", predicted_labels)"
   ]
  },
  {
   "cell_type": "code",
   "execution_count": 68,
   "metadata": {},
   "outputs": [],
   "source": [
    "# Mapear las etiquetas predichas a tus categorías\n",
    "label_map = {\n",
    "    'Sci/Tech': 'Sci/Tech',\n",
    "    'Sports': 'Sports'\n",
    "}\n",
    "mapped_predicted_labels = [label_map.get(label, 'Unknown') for label in predicted_labels]"
   ]
  },
  {
   "cell_type": "code",
   "execution_count": 69,
   "metadata": {},
   "outputs": [
    {
     "name": "stdout",
     "output_type": "stream",
     "text": [
      "Mapped Predicted Labels: ['Sci/Tech', 'Sci/Tech', 'Sports', 'Sports']\n"
     ]
    }
   ],
   "source": [
    "# Imprimir resultados\n",
    "print(\"Mapped Predicted Labels:\", mapped_predicted_labels)"
   ]
  },
  {
   "cell_type": "markdown",
   "metadata": {},
   "source": [
    "### Analisis con Accuracy"
   ]
  },
  {
   "cell_type": "code",
   "execution_count": 43,
   "metadata": {},
   "outputs": [
    {
     "name": "stdout",
     "output_type": "stream",
     "text": [
      "Accuracy: 1.00\n"
     ]
    }
   ],
   "source": [
    "# Evaluar precisión\n",
    "accuracy = accuracy_score(expected_labels, mapped_predicted_labels)\n",
    "print(f\"Accuracy: {accuracy:.2f}\")\n"
   ]
  },
  {
   "cell_type": "code",
   "execution_count": 70,
   "metadata": {},
   "outputs": [
    {
     "data": {
      "image/png": "[encoded data removed]",
      "text/plain": [
       "<Figure size 800x600 with 2 Axes>"
      ]
     },
     "metadata": {},
     "output_type": "display_data"
    }
   ],
   "source": [
    "# Crear matriz de confusión\n",
    "conf_matrix = confusion_matrix(expected_labels, mapped_predicted_labels, labels=['Sci/Tech', 'Sports'])\n",
    "\n",
    "# Crear el gráfico de la matriz de confusión\n",
    "plt.figure(figsize=(8, 6))\n",
    "sns.heatmap(conf_matrix, annot=True, fmt='d', cmap='Blues', xticklabels=['Sci/Tech', 'Sports'], yticklabels=['Sci/Tech', 'Sports'])\n",
    "plt.xlabel('Predicted Label')\n",
    "plt.ylabel('True Label')\n",
    "plt.title('Confusion Matrix for zero_shot_classifier')\n",
    "plt.show()"
   ]
  },
  {
   "cell_type": "markdown",
   "metadata": {},
   "source": [
    "## Few-Shot-Learning Classification"
   ]
  },
  {
   "cell_type": "code",
   "execution_count": 3,
   "metadata": {},
   "outputs": [
    {
     "name": "stderr",
     "output_type": "stream",
     "text": [
      "C:\\Users\\micha\\AppData\\Local\\Packages\\PythonSoftwareFoundation.Python.3.11_qbz5n2kfra8p0\\LocalCache\\local-packages\\Python311\\site-packages\\huggingface_hub\\file_download.py:1132: FutureWarning: `resume_download` is deprecated and will be removed in version 1.0.0. Downloads always resume when possible. If you want to force a new download, use `force_download=True`.\n",
      "  warnings.warn(\n"
     ]
    }
   ],
   "source": [
    "# Descargar el pipeline para clasificación de texto con zero-shot learning\n",
    "few_shot_classifier = pipeline(\n",
    "    model=\"sileod/deberta-v3-small-tasksource-nli\"\n",
    ")"
   ]
  },
  {
   "cell_type": "code",
   "execution_count": 4,
   "metadata": {},
   "outputs": [],
   "source": [
    "# Definir ejemplos de pocos disparos (few-shot examples)\n",
    "few_shot_examples = {\n",
    "    \"sports\": [\n",
    "        \"The football match was exciting and full of energy.\",\n",
    "        \"Basketball is a popular sport worldwide.\",\n",
    "        \"The soccer team won the championship after a thrilling final.\"\n",
    "    ],\n",
    "    \"sci/tech\": [\n",
    "        \"The new study reveals important data about climate change.\",\n",
    "        \"Quantum mechanics is a fundamental theory in physics.\",\n",
    "        \"The research on genetic modification has made significant advances.\"\n",
    "    ]\n",
    "}"
   ]
  },
  {
   "cell_type": "code",
   "execution_count": 5,
   "metadata": {},
   "outputs": [],
   "source": [
    "# Definir los textos de prueba\n",
    "texts = [\n",
    "    \"\"\"Researchers at MIT have developed a \n",
    "    new type of battery that could revolutionize the way we store energy. \n",
    "    Using a novel material that allows for faster charge times and longer battery \n",
    "    life, the team believes their invention could significantly impact the electric \n",
    "    vehicle market. The battery is also more environmentally friendly, using less\n",
    "    rare metals and being easier to recycle.\"\"\",\n",
    "    \n",
    "    \"\"\"NASA's James Webb Space Telescope has successfully \n",
    "    captured its first images of distant galaxies, revealing details never seen \n",
    "    before. The telescope's advanced infrared sensors allow scientists to peer \n",
    "    through cosmic dust and study the formation of stars and planets. This \n",
    "    groundbreaking technology is expected to provide new insights into the \n",
    "    origins of the universe and the potential for life on other planets.\"\"\",\n",
    "    \n",
    "    \"\"\"In an exhilarating match last night, the Lakers secured a victory \n",
    "    against the Warriors with a final score of 112-109. LeBron James led the team \n",
    "    with an impressive 34 points, 8 rebounds, and 10 assists. The game was a \n",
    "    nail-biter until the very end, with both teams showcasing their skills \n",
    "    and determination. This win places the Lakers in a strong position for \n",
    "    the upcoming playoffs.\"\"\",\n",
    "    \n",
    "    \"\"\"The Wimbledon tennis championship saw a stunning upset as an unseeded \n",
    "    player defeated the defending champion in straight sets. The match, held on \n",
    "    Centre Court, captivated audiences as the underdog displayed incredible agility \n",
    "    and precision. This unexpected victory has shaken up the tournament, \n",
    "    promising an exciting series of matches in the coming days.\"\"\"\n",
    "]\n"
   ]
  },
  {
   "cell_type": "code",
   "execution_count": 6,
   "metadata": {},
   "outputs": [],
   "source": [
    "# Etiquetas verdaderas para los textos\n",
    "true_labels = ['Sci/Tech', 'Sci/Tech', 'Sports', 'Sports']"
   ]
  },
  {
   "cell_type": "code",
   "execution_count": 7,
   "metadata": {},
   "outputs": [],
   "source": [
    "def classify_text_few_shot(text, examples):\n",
    "    prompt = \"Classify the following text into either 'sports' or 'sci/tech'.\\n\\n\"\n",
    "    for category, example_list in examples.items():\n",
    "        prompt += f\"{category} examples:\\n\"\n",
    "        for example in example_list:\n",
    "            prompt += f\"- {example}\\n\"\n",
    "    prompt += f\"\\nText to classify:\\n{text}\\n\\nCategory:\"\n",
    "    \n",
    "    # Clasificar el texto\n",
    "    result = few_shot_classifier(prompt, candidate_labels=['sports', 'sci/tech'])\n",
    "    return result['labels'][0]"
   ]
  },
  {
   "cell_type": "code",
   "execution_count": 8,
   "metadata": {},
   "outputs": [
    {
     "name": "stderr",
     "output_type": "stream",
     "text": [
      "Asking to truncate to max_length but no maximum length is provided and the model has no predefined maximum length. Default to no truncation.\n"
     ]
    },
    {
     "name": "stdout",
     "output_type": "stream",
     "text": [
      "Predicted Labels: ['sci/tech', 'sci/tech', 'sports', 'sports']\n"
     ]
    }
   ],
   "source": [
    "# Clasificar los textos y guardar resultados\n",
    "predicted_labels = [classify_text_few_shot(text, few_shot_examples) for text in texts]\n",
    "\n",
    "# Verificar las etiquetas predichas\n",
    "print(\"Predicted Labels:\", predicted_labels)"
   ]
  },
  {
   "cell_type": "code",
   "execution_count": 9,
   "metadata": {},
   "outputs": [],
   "source": [
    "# Crear el mapeo de etiquetas\n",
    "label_map = {\n",
    "    'sci/tech': 'Sci/Tech',\n",
    "    'sports': 'Sports'\n",
    "}\n",
    "mapped_predicted_labels = [label_map.get(label.lower(), 'Unknown') for label in predicted_labels]"
   ]
  },
  {
   "cell_type": "code",
   "execution_count": 10,
   "metadata": {},
   "outputs": [
    {
     "name": "stdout",
     "output_type": "stream",
     "text": [
      "Predicciones: ['Sci/Tech', 'Sci/Tech', 'Sports', 'Sports']\n"
     ]
    }
   ],
   "source": [
    "# Imprimir resultados\n",
    "print(\"Predicciones:\", mapped_predicted_labels)"
   ]
  },
  {
   "cell_type": "markdown",
   "metadata": {},
   "source": [
    "### Analisis con Accuracy"
   ]
  },
  {
   "cell_type": "code",
   "execution_count": 11,
   "metadata": {},
   "outputs": [
    {
     "name": "stdout",
     "output_type": "stream",
     "text": [
      "Accuracy: 1.00\n"
     ]
    }
   ],
   "source": [
    "# Evaluar precisión\n",
    "accuracy = accuracy_score(true_labels, mapped_predicted_labels)\n",
    "print(f\"Accuracy: {accuracy:.2f}\")"
   ]
  },
  {
   "cell_type": "code",
   "execution_count": 12,
   "metadata": {},
   "outputs": [
    {
     "data": {
      "image/png": "[encoded data removed]",
      "text/plain": [
       "<Figure size 800x600 with 2 Axes>"
      ]
     },
     "metadata": {},
     "output_type": "display_data"
    }
   ],
   "source": [
    "# Crear matriz de confusión\n",
    "conf_matrix = confusion_matrix(true_labels, mapped_predicted_labels, labels=['Sci/Tech', 'Sports'])\n",
    "\n",
    "# Crear el gráfico de la matriz de confusión\n",
    "plt.figure(figsize=(8, 6))\n",
    "sns.heatmap(conf_matrix, annot=True, fmt='d', cmap='Blues', xticklabels=['Sci/Tech', 'Sports'], yticklabels=['Sci/Tech', 'Sports'])\n",
    "plt.xlabel('Predicted Label')\n",
    "plt.ylabel('True Label')\n",
    "plt.title('Confusion Matrix for few-short-learning classification')\n",
    "plt.show()"
   ]
  }
 ],
 "metadata": {
  "kernelspec": {
   "display_name": "Python 3",
   "language": "python",
   "name": "python3"
  },
  "language_info": {
   "codemirror_mode": {
    "name": "ipython",
    "version": 3
   },
   "file_extension": ".py",
   "mimetype": "text/x-python",
   "name": "python",
   "nbconvert_exporter": "python",
   "pygments_lexer": "ipython3",
   "version": "3.11.9"
  }
 },
 "nbformat": 4,
 "nbformat_minor": 2
}
